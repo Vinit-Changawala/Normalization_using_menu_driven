{
  "nbformat": 4,
  "nbformat_minor": 0,
  "metadata": {
    "colab": {
      "name": "Menu_driven_Normalization.ipynb",
      "provenance": [],
      "authorship_tag": "ABX9TyPLYuGx/4Gb/AvgjdZGulyo",
      "include_colab_link": true
    },
    "kernelspec": {
      "name": "python3",
      "display_name": "Python 3"
    },
    "language_info": {
      "name": "python"
    }
  },
  "cells": [
    {
      "cell_type": "markdown",
      "metadata": {
        "id": "view-in-github",
        "colab_type": "text"
      },
      "source": [
        "<a href=\"https://colab.research.google.com/github/Vinit-Changawala/Normalization_using_menu_driven/blob/main/Menu_driven_Normalization.ipynb\" target=\"_parent\"><img src=\"https://colab.research.google.com/assets/colab-badge.svg\" alt=\"Open In Colab\"/></a>"
      ]
    },
    {
      "cell_type": "code",
      "execution_count": 1,
      "metadata": {
        "colab": {
          "base_uri": "https://localhost:8080/"
        },
        "id": "Hy9uPimPKcLj",
        "outputId": "b5487e5d-c8c2-46dd-b6c7-8d300ebc0bfe"
      },
      "outputs": [
        {
          "name": "stdout",
          "output_type": "stream",
          "text": [
            "Menu\n",
            "---------------------------\n",
            "1) Min-Max Normalization\n",
            "2) z-score Normalizaion\n",
            "3) Decimal Scaling\n",
            "4) Exit\n",
            "---------------------------\n",
            "Choose your option: 1\n",
            "Enter number of elements : 4\n",
            "3\n",
            "2\n",
            "6\n",
            "4\n",
            "Enter new range minimum and maximum:\n",
            "New Minimum: 0\n",
            "New Maximum: 1\n",
            "Value: 5\n",
            "Min-Max Normalization: 0.75\n",
            "Menu\n",
            "---------------------------\n",
            "1) Min-Max Normalization\n",
            "2) z-score Normalizaion\n",
            "3) Decimal Scaling\n",
            "4) Exit\n",
            "---------------------------\n",
            "Choose your option: 4\n"
          ]
        }
      ],
      "source": [
        "import numpy as np\n",
        "import pandas as pd\n",
        "\n",
        "flag=0\n",
        "while(flag==0):\n",
        "  print(\"Menu\")\n",
        "  print(\"---------------------------\")\n",
        "  print(\"1) Min-Max Normalization\\n2) z-score Normalizaion\\n3) Decimal Scaling\\n4) Exit\")\n",
        "  print(\"---------------------------\")\n",
        "  opt = int(input(\"Choose your option: \"))\n",
        "\n",
        "  if(opt==1):\n",
        "    lst = []\n",
        "    n = int(input(\"Enter number of elements : \"))\n",
        "    for i in range(0, n):\n",
        "      ele = int(input())\n",
        "      lst.append(ele)\n",
        "    minimum = np.min(lst)\n",
        "    maximum = np.max(lst)\n",
        "    print(\"Enter new range minimum and maximum:\")\n",
        "    new_min = int(input(\"New Minimum: \"))\n",
        "    new_max = int(input(\"New Maximum: \"))\n",
        "    value = int(input(\"Value: \"))\n",
        "    new_value = (((value-minimum)*(new_max-new_min))/(maximum-minimum))\n",
        "    print(\"Min-Max Normalization: \"+str(new_value))\n",
        "\n",
        "  elif(opt==2):\n",
        "    mean = int(input(\"Enter mean of data: \"))\n",
        "    sd = int(input(\"Enter Standard Deviation of data: \"))\n",
        "    val = int(input(\"Enter value: \"))\n",
        "    new_val = ((val-mean)/std)\n",
        "    print(\"z-score Normalization: \"+str(new_val))\n",
        "\n",
        "  elif(opt==3):\n",
        "    v = int(input(\"Enter value to be normalized: \"))\n",
        "    j = int(input(\"Enter value of j: \"))\n",
        "    new_v = v/(10**j)\n",
        "    print(\"Decimal Scaling: \"+str(new_v))\n",
        "\n",
        "  else:\n",
        "    flag=1"
      ]
    },
    {
      "cell_type": "code",
      "source": [
        ""
      ],
      "metadata": {
        "id": "yh2PzFAFKgLm"
      },
      "execution_count": null,
      "outputs": []
    }
  ]
}